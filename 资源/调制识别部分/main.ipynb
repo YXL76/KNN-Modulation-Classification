{
 "cells": [
  {
   "source": [
    "### 导入包及数据部分"
   ],
   "cell_type": "markdown",
   "metadata": {}
  },
  {
   "cell_type": "code",
   "execution_count": null,
   "metadata": {},
   "outputs": [],
   "source": [
    "import collections\n",
    "from collections import defaultdict\n",
    "from os.path import join\n",
    "\n",
    "import matplotlib.pyplot as plt\n",
    "import numpy as np  # 导入numpy，用于科学计算，如，矩阵运算\n",
    "from sklearn.neighbors import KNeighborsClassifier  # 包装好的knn算法\n",
    "\n",
    "\n",
    "def file2matrix(filename, n_features):\n",
    "    fr = open(filename)\n",
    "    number_of_lines = len(\n",
    "        fr.readlines()\n",
    "    )  # get the number of lines in the file\n",
    "    # prepare matrix to return the number of features\n",
    "    return_mat = np.zeros((number_of_lines, n_features))\n",
    "    class_label_vector = []  # prepare labels return\n",
    "    fr = open(filename)\n",
    "    for index, line in enumerate(fr.readlines()):\n",
    "        line = line.strip()\n",
    "        list_from_line = line.split(\"\\t\")\n",
    "        return_mat[index, :] = list_from_line[0:n_features]  # chose features\n",
    "        class_label_vector.append(float(list_from_line[-1]))\n",
    "        # classLabelVector.append(float(0))\n",
    "    return return_mat, class_label_vector\n"
   ]
  },
  {
   "cell_type": "markdown",
   "metadata": {},
   "source": [
    "### 生成KNN分类器"
   ]
  },
  {
   "cell_type": "code",
   "execution_count": null,
   "metadata": {},
   "outputs": [],
   "source": [
    "Ls = (5, 9)\n",
    "Ks = (3, 10, 24)\n",
    "kNN_classifiers = ([], [])\n",
    "\n",
    "for i, L in enumerate(Ls):\n",
    "\n",
    "    for K in Ks:\n",
    "        kNN_classifiers[i].append(KNeighborsClassifier(n_neighbors=K))\n",
    "\n",
    "    data_x, data_y = file2matrix(join(\"data\", \"sample.dat\"), L)\n",
    "\n",
    "    # 拟合\n",
    "    for kNN_classifier in kNN_classifiers[i]:\n",
    "        kNN_classifier.fit(data_x, data_y)\n"
   ]
  },
  {
   "cell_type": "code",
   "execution_count": null,
   "metadata": {},
   "outputs": [],
   "source": [
    "def ModulationClassTest(n_features, SNR, method, n, labels, kNN_classifier):\n",
    "    accuracy = defaultdict(list)\n",
    "    # 分别代表 BPSK, QPSK, 16QAM, 64QAM\n",
    "    numbers = (\n",
    "        defaultdict(list),\n",
    "        defaultdict(list),\n",
    "        defaultdict(list),\n",
    "        defaultdict(list),\n",
    "    )\n",
    "    for snr in SNR:\n",
    "        filename = (\n",
    "            \"test\" + labels[method] + \"-\" + str(n) + \"-\" + str(snr) + \".dat\"\n",
    "        )\n",
    "        testDataMat, _ = file2matrix(join(\"data\", filename), n_features)\n",
    "        numTestVecs = testDataMat.shape[0]\n",
    "        for i in range(4):\n",
    "            numbers[i][snr] = 0.0\n",
    "        for i in range(numTestVecs):\n",
    "\n",
    "            X_predict = testDataMat[i, :].reshape(1, -1)\n",
    "            y_predict = kNN_classifier.predict(X_predict)\n",
    "\n",
    "            if y_predict == 2:\n",
    "                numbers[0][snr] += 1.0\n",
    "            elif y_predict == 4:\n",
    "                numbers[1][snr] += 1.0\n",
    "            elif y_predict == 16:\n",
    "                numbers[2][snr] += 1.0\n",
    "            elif y_predict == 64:\n",
    "                numbers[3][snr] += 1.0\n",
    "\n",
    "        accuracy[snr] = numbers[method][snr] / numTestVecs\n",
    "        print(\"the total correct rate on %d dB SNR is:\" % snr, (accuracy[snr]))\n",
    "        accuracy = collections.OrderedDict(sorted(accuracy.items()))\n",
    "        for i in range(4):\n",
    "            print(\n",
    "                (\"正确\" if i == method else \"\") + \"判断为\",\n",
    "                labels[i] + \":\",\n",
    "                numbers[i][snr],\n",
    "            )\n",
    "    return accuracy\n",
    "\n",
    "\n",
    "Ns = (200, 500)\n",
    "labels = (\"BPSK\", \"QPSK\", \"16QAM\", \"64QAM\")\n",
    "\n",
    "\n",
    "def ModulationClassTests(SNR, method):\n",
    "    fig, axs = plt.subplots(2, figsize=(20, 16))\n",
    "    fig.suptitle(\"SNR vs Accuracy - \" + labels[method], fontsize=32)\n",
    "    x = SNR\n",
    "\n",
    "    for i, L in enumerate(Ls):\n",
    "        for N in Ns:\n",
    "            for j, K in enumerate(Ks):\n",
    "                label = \"N = \" + str(N) + \", K = \" + str(K)\n",
    "                print(label + \":\")\n",
    "                accuracy = ModulationClassTest(\n",
    "                    L, SNR, method, N, labels, kNN_classifiers[i][j]\n",
    "                )\n",
    "                print(accuracy)\n",
    "\n",
    "                axs[i].plot(\n",
    "                    x,\n",
    "                    list(accuracy.values()),\n",
    "                    label=label,\n",
    "                    marker=\"o\",\n",
    "                    linewidth=2.0,\n",
    "                    linestyle=\"dashed\",\n",
    "                )\n",
    "\n",
    "        axs[i].set_title(\"L =\" + str(L), fontsize=24)\n",
    "        axs[i].legend(loc=\"upper left\", frameon=False, fontsize=18)\n",
    "        axs[i].grid()\n",
    "\n",
    "    for ax in axs.flat:\n",
    "        ax.set(\n",
    "            xticks=np.arange(min(x), max(x) + 1, 2.0),\n",
    "            yticks=np.arange(0, 1, 0.10),\n",
    "            xlabel=\"SNR (dB)\",\n",
    "            ylabel=\"Test accuracy\",\n",
    "        )\n",
    "\n",
    "    plt.show()\n"
   ]
  },
  {
   "cell_type": "markdown",
   "metadata": {},
   "source": [
    "### BPSK ModulationClassTest"
   ]
  },
  {
   "cell_type": "code",
   "execution_count": null,
   "metadata": {},
   "outputs": [],
   "source": [
    "SNR = [2 * x for x in range(-2, 6)]\n",
    "ModulationClassTests(SNR, 0)"
   ]
  },
  {
   "cell_type": "markdown",
   "metadata": {},
   "source": [
    "### QPSK ModulationClassTest"
   ]
  },
  {
   "cell_type": "code",
   "execution_count": null,
   "metadata": {},
   "outputs": [],
   "source": []
  },
  {
   "cell_type": "code",
   "execution_count": null,
   "metadata": {},
   "outputs": [],
   "source": [
    "SNR = [2 * x for x in range(-2, 6)]\n",
    "ModulationClassTests(SNR, 1)"
   ]
  },
  {
   "cell_type": "markdown",
   "metadata": {},
   "source": [
    "### 16QAM ModulationClassTest"
   ]
  },
  {
   "cell_type": "code",
   "execution_count": null,
   "metadata": {},
   "outputs": [],
   "source": [
    "SNR = [5 * x for x in range(0, 9)]\n",
    "ModulationClassTests(SNR, 2)"
   ]
  }
 ],
 "metadata": {
  "kernelspec": {
   "name": "pycharm-e6ef5ce8",
   "language": "python",
   "display_name": "PyCharm (KNN-Modulation-Classification)"
  },
  "language_info": {
   "codemirror_mode": {
    "name": "ipython",
    "version": 3
   },
   "file_extension": ".py",
   "mimetype": "text/x-python",
   "name": "python",
   "nbconvert_exporter": "python",
   "pygments_lexer": "ipython3",
   "version": "3.8.6-final"
  }
 },
 "nbformat": 4,
 "nbformat_minor": 2
}