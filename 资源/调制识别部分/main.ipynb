{
 "cells": [
  {
   "source": [
    "### 导入包及数据部分"
   ],
   "cell_type": "markdown",
   "metadata": {}
  },
  {
   "cell_type": "code",
   "execution_count": null,
   "metadata": {},
   "outputs": [],
   "source": [
    "import collections\n",
    "from collections import defaultdict\n",
    "from os.path import join\n",
    "\n",
    "import matplotlib.pyplot as plt\n",
    "import numpy as np  # 导入numpy，用于科学计算，如，矩阵运算\n",
    "from sklearn.neighbors import KNeighborsClassifier  # 包装好的knn算法\n",
    "\n",
    "\n",
    "def file2matrix(filename):\n",
    "    fr = open(filename)\n",
    "    number_of_lines = len(\n",
    "        fr.readlines()\n",
    "    )  # get the number of lines in the file\n",
    "    # prepare matrix to return the number of features\n",
    "    return_mat = np.zeros((number_of_lines, 5))\n",
    "    class_label_vector = []  # prepare labels return\n",
    "    fr = open(filename)\n",
    "    for index, line in enumerate(fr.readlines()):\n",
    "        line = line.strip()\n",
    "        list_from_line = line.split(\"\\t\")\n",
    "        return_mat[index, :] = list_from_line[0:5]  # chose features\n",
    "        class_label_vector.append(float(list_from_line[-1]))\n",
    "        # classLabelVector.append(float(0))\n",
    "    return return_mat, class_label_vector\n"
   ]
  },
  {
   "cell_type": "markdown",
   "metadata": {},
   "source": [
    "### 生成KNN分类器"
   ]
  },
  {
   "cell_type": "code",
   "execution_count": null,
   "metadata": {},
   "outputs": [],
   "source": [
    "data_X, data_y = file2matrix(join(\"data\", \"sample.dat\"))\n",
    "kNN_classifier = KNeighborsClassifier(n_neighbors=10)  # knn中k值\n",
    "kNN_classifier.fit(data_X, data_y)  # fit 拟合\n"
   ]
  },
  {
   "cell_type": "code",
   "execution_count": null,
   "metadata": {},
   "outputs": [],
   "source": [
    "def ModulationClassTest(SNR, method, color=\"#000\"):\n",
    "    accuracy = defaultdict(list)\n",
    "    # 分别代表 BPSK, QPSK, 16QAM, 64QAM\n",
    "    numbers = [\n",
    "        defaultdict(list),\n",
    "        defaultdict(list),\n",
    "        defaultdict(list),\n",
    "        defaultdict(list),\n",
    "    ]\n",
    "    labels = [\"BPSK\", \"QPSK\", \"16QAM\", \"64QAM\"]\n",
    "    for snr in SNR:\n",
    "        testDataMat, _ = file2matrix(\n",
    "            join(\"data\", \"test\" + labels[method] + \"-\" + str(snr) + \".dat\")\n",
    "        )\n",
    "        numTestVecs = testDataMat.shape[0]\n",
    "        for i in range(4):\n",
    "            numbers[i][snr] = 0.0\n",
    "        for i in range(numTestVecs):\n",
    "\n",
    "            X_predict = testDataMat[i, :].reshape(1, -1)\n",
    "            y_predict = kNN_classifier.predict(X_predict)\n",
    "\n",
    "            if y_predict == 2:\n",
    "                numbers[0][snr] += 1.0\n",
    "            elif y_predict == 4:\n",
    "                numbers[1][snr] += 1.0\n",
    "            elif y_predict == 16:\n",
    "                numbers[2][snr] += 1.0\n",
    "            elif y_predict == 64:\n",
    "                numbers[3][snr] += 1.0\n",
    "\n",
    "        accuracy[snr] = numbers[method][snr] / numTestVecs\n",
    "        print(\"the total correct rate on %d dB SNR is:\" % snr, (accuracy[snr]))\n",
    "        accuracy = collections.OrderedDict(sorted(accuracy.items()))\n",
    "        for i in range(4):\n",
    "            print(\n",
    "                (\"正确\" if i == method else \"\") + \"判断为\",\n",
    "                labels[i] + \":\",\n",
    "                numbers[i][snr],\n",
    "            )\n",
    "\n",
    "    print(accuracy)\n",
    "    plt.figure(figsize=(8, 5), dpi=100)\n",
    "    x = SNR\n",
    "    y = list(accuracy.values())\n",
    "    plt.plot(x, y, marker=\"o\", linewidth=2.0, linestyle=\"dashed\", color=color)\n",
    "    plt.axis([0, 10, 0, 1])\n",
    "    plt.xticks(np.arange(min(x), max(x) + 1, 5.0))\n",
    "    plt.yticks(np.arange(0, 1, 0.10))\n",
    "\n",
    "    plt.title(\"SNR vs Accuracy - \" + labels[method], fontsize=16)\n",
    "    plt.xlabel(\"SNR (dB)\", fontsize=14)\n",
    "    plt.ylabel(\"Test accuracy\", fontsize=14)\n",
    "    plt.grid()\n",
    "\n",
    "    plt.show()\n"
   ]
  },
  {
   "cell_type": "markdown",
   "metadata": {},
   "source": [
    "### BPSK ModulationClassTest"
   ]
  },
  {
   "cell_type": "code",
   "execution_count": null,
   "metadata": {},
   "outputs": [],
   "source": [
    "SNR = [2 * x for x in range(-2, 6)]\n",
    "ModulationClassTest(SNR, 0, \"royalblue\")"
   ]
  },
  {
   "cell_type": "markdown",
   "metadata": {},
   "source": [
    "### QPSK ModulationClassTest"
   ]
  },
  {
   "cell_type": "code",
   "execution_count": null,
   "metadata": {},
   "outputs": [],
   "source": [
    "SNR = [2 * x for x in range(-2, 6)]\n",
    "ModulationClassTest(SNR, 1, \"#800080\")"
   ]
  },
  {
   "cell_type": "markdown",
   "metadata": {},
   "source": [
    "### 16QAM ModulationClassTest"
   ]
  },
  {
   "cell_type": "code",
   "execution_count": null,
   "metadata": {},
   "outputs": [],
   "source": [
    "SNR = [5 * x for x in range(0, 9)]\n",
    "ModulationClassTest(SNR, 2, \"#228B22\")"
   ]
  }
 ],
 "metadata": {
  "kernelspec": {
   "name": "pycharm-e6ef5ce8",
   "language": "python",
   "display_name": "PyCharm (KNN-Modulation-Classification)"
  },
  "language_info": {
   "codemirror_mode": {
    "name": "ipython",
    "version": 3
   },
   "file_extension": ".py",
   "mimetype": "text/x-python",
   "name": "python",
   "nbconvert_exporter": "python",
   "pygments_lexer": "ipython3",
   "version": "3.8.6-final"
  }
 },
 "nbformat": 4,
 "nbformat_minor": 2
}