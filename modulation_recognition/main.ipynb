{
 "cells": [
  {
   "source": [
    "# KNN-Modulation-Classification\n",
    "\n",
    "## 实验目的\n",
    "\n",
    "利用 kNN 算法识别无线信号传输系统所使用的调制方式，辅助传统的 AMC 技术\n",
    "\n",
    "## 实验内容\n",
    "\n",
    "利用样本集训练 kNN 分类器，同时通过修改高阶累积量、计算高阶矩的数据数、kNN 参数，对比分析不同情况下识别的准确率\n",
    "\n",
    "## 实验方法和算法原理\n",
    "\n",
    "### 调制方式\n",
    "\n",
    "- `BPSK`: $u(i)=\\frac{1}{\\sqrt{2}}(1-2b(i))+j(1-2b(i))$\n",
    "- `QPSK`: $u(i)=\\frac{1}{\\sqrt{2}}[(1-2b(i))+j(1-2b(2i+1))]$\n",
    "- `16QAM`: $u(i)=\\frac{1}{\\sqrt{10}}\\{(1-4b(i))[2-(1-2b(4i+2))]+j(1-2b(4i+1))[2-(1-2b(4i+3))]\\}$\n",
    "- `64QAM`: $u(i)=\\frac{1}{\\sqrt{42}}\\{(1-2b(6i))[4-(1-2b(6i+2))[2-(1-2b(6i+4))]]+j(1-2b(6i+1))[4-(1-2b(6i+3))[2-(1-2b(6i+5))]]\\}$\n",
    "\n",
    "### AMC 技术\n",
    "\n",
    "根据信噪比自适应选择调制方式，但是发射机与接收机之间必须相互通信告知调制方式，从而占用部分频谱/时隙/功率资源\n",
    "\n",
    "### 高阶累积量特征\n",
    "\n",
    "- 高阶矩: $M_{pq}=E[X(t)^{(p-q)}X^*(t)^q]$\n",
    "- 高阶累积量: $C_pq=\\mathrm{cum}\\{X(t),\\cdots,X(t),X^*(t),\\cdots,X^*(t)\\}$\n",
    "  - 其中$X(t)$为$p-q$项，$X^*(t)$为$q$项\n",
    "\n",
    "### kNN\n",
    "\n",
    "> kNN 算法(k-nearest neighbors algorithm)是模式识别领域的一种统计方法，可以用于分类和回归。用于分类时，输出是一个对象$k$个最近邻居中出现最多的类别\n",
    "\n",
    "1. 计算各个数据点到样本点的距离\n",
    "2. 对距离进行排序\n",
    "3. 统计距离最小的$k$个点\n",
    "4. 统计$k$个点所属的类别\n",
    "5. 返回出现频率最高的类别作为结果\n",
    "\n",
    "## 实验平台\n",
    "\n",
    "- `OS`: `Manjaro Linux x86_64`\n",
    "- `Kernel`: `5.4.78-1-MANJARO`\n",
    "- `Python`: `3.8.6`\n",
    "- `Jupyter Notebook`: `6.1.4`\n",
    "- `Scikit-learn`: `0.23.2`\n",
    "- `Matplotlib`: `3.3.3`\n",
    "- `Numpy`: `1.19.4`\n",
    "\n",
    "## 实验步骤\n",
    "\n",
    "1. 运行位于`data_generation`中的`Matlab`代码生成数据保存到`data`中\n",
    "   - 生成样本集: 运行`getSample.m`，生成数据供`kNN`算法训练\n",
    "   - 生成测试数据集: 运行`getTest16QAM.m`、`getTestBPSK.m`、`getTestQPSK.m`，生成的数据名称格式为`test[process]-[N]-[snr].dat`\n",
    "     - `process`: 调制方式，有`BPSK`、`QPSK`、`16QAM`\n",
    "     - `N`: 用于计算高阶矩的每组数据数，有`200`、`500`\n",
    "     - `snr`: 信噪比\n",
    "2. 运行位于`modulation_recognition`中的`main.ipynb`，查看并分析结果\n"
   ],
   "cell_type": "markdown",
   "metadata": {}
  },
  {
   "source": [
    "### 导入包及数据部分"
   ],
   "cell_type": "markdown",
   "metadata": {}
  },
  {
   "cell_type": "code",
   "execution_count": null,
   "metadata": {},
   "outputs": [],
   "source": [
    "import collections\n",
    "from collections import defaultdict\n",
    "from os.path import join\n",
    "\n",
    "import matplotlib.pyplot as plt\n",
    "import numpy as np  # 导入numpy，用于科学计算，如，矩阵运算\n",
    "from sklearn.neighbors import KNeighborsClassifier  # 包装好的knn算法\n",
    "\n",
    "\n",
    "def file2matrix(filename, n_features):\n",
    "    \"\"\"将文件中的数据转换为矩阵.\n",
    "\n",
    "    Args:\n",
    "        filename (string): 导入的文件名\n",
    "        n_features (int)): 高阶特征量\n",
    "\n",
    "    Returns:\n",
    "        any, any: 矩阵\n",
    "    \"\"\"\n",
    "    filepath = join(\"..\", \"data\", filename)\n",
    "    fr = open(filepath)\n",
    "    number_of_lines = len(\n",
    "        fr.readlines()\n",
    "    )  # get the number of lines in the file\n",
    "    # prepare matrix to return the number of features\n",
    "    return_mat = np.zeros((number_of_lines, n_features))\n",
    "    class_label_vector = []  # prepare labels return\n",
    "    fr = open(filepath)\n",
    "    for index, line in enumerate(fr.readlines()):\n",
    "        line = line.strip()\n",
    "        list_from_line = line.split(\"\\t\")\n",
    "        return_mat[index, :] = list_from_line[0:n_features]  # chose features\n",
    "        class_label_vector.append(float(list_from_line[-1]))\n",
    "        # classLabelVector.append(float(0))\n",
    "    return return_mat, class_label_vector\n"
   ]
  },
  {
   "cell_type": "markdown",
   "metadata": {},
   "source": [
    "### 生成 KNN 分类器"
   ]
  },
  {
   "cell_type": "code",
   "execution_count": null,
   "metadata": {},
   "outputs": [],
   "source": [
    "Ls = (5, 9) # 高阶累积量\n",
    "Ks = (3, 10, 24) # kNN参数\n",
    "kNN_classifiers = ([], [])\n",
    "\n",
    "for i, L in enumerate(Ls):\n",
    "\n",
    "    for K in Ks:\n",
    "        kNN_classifiers[i].append(KNeighborsClassifier(n_neighbors=K))\n",
    "\n",
    "    data_x, data_y = file2matrix(\"sample.dat\", L)\n",
    "\n",
    "    # 拟合\n",
    "    for kNN_classifier in kNN_classifiers[i]:\n",
    "        kNN_classifier.fit(data_x, data_y)\n"
   ]
  },
  {
   "source": [
    "### 定义 kNN 测试函数"
   ],
   "cell_type": "markdown",
   "metadata": {}
  },
  {
   "cell_type": "code",
   "execution_count": null,
   "metadata": {},
   "outputs": [],
   "source": [
    "def ModulationClassTest(n_features, SNR, method, n, labels, kNN_classifier):\n",
    "    \"\"\"测试单个数据集对某个调制方式的准确率.\n",
    "\n",
    "    Args:\n",
    "        n_features (int): 高阶累积量\n",
    "        SNR (List[int]): 信噪比\n",
    "        method (int): 调制方式\n",
    "        n (int): 计算高阶矩的数据数\n",
    "        labels (Tuple[str]): 调制方式的名称\n",
    "        kNN_classifier (any): kNN分类器\n",
    "\n",
    "    Returns:\n",
    "        defaultdict[_KT, list]: 准确率\n",
    "    \"\"\"\n",
    "    accuracy = defaultdict(list)\n",
    "    # 分别代表 BPSK, QPSK, 16QAM, 64QAM\n",
    "    numbers = (\n",
    "        defaultdict(list),\n",
    "        defaultdict(list),\n",
    "        defaultdict(list),\n",
    "        defaultdict(list),\n",
    "    )\n",
    "    for snr in SNR:\n",
    "        filename = (\n",
    "            \"test\" + labels[method] + \"-\" + str(n) + \"-\" + str(snr) + \".dat\"\n",
    "        )\n",
    "        testDataMat, _ = file2matrix(filename, n_features)\n",
    "        numTestVecs = testDataMat.shape[0]\n",
    "        for i in range(4):\n",
    "            numbers[i][snr] = 0.0\n",
    "        for i in range(numTestVecs):\n",
    "\n",
    "            X_predict = testDataMat[i, :].reshape(1, -1)\n",
    "            y_predict = kNN_classifier.predict(X_predict)\n",
    "\n",
    "            if y_predict == 2:\n",
    "                numbers[0][snr] += 1.0\n",
    "            elif y_predict == 4:\n",
    "                numbers[1][snr] += 1.0\n",
    "            elif y_predict == 16:\n",
    "                numbers[2][snr] += 1.0\n",
    "            elif y_predict == 64:\n",
    "                numbers[3][snr] += 1.0\n",
    "\n",
    "        accuracy[snr] = numbers[method][snr] / numTestVecs\n",
    "        print(\"the total correct rate on %d dB SNR is:\" % snr, (accuracy[snr]))\n",
    "        accuracy = collections.OrderedDict(sorted(accuracy.items()))\n",
    "        for i in range(4):\n",
    "            print(\n",
    "                (\"正确\" if i == method else \"\") + \"判断为\",\n",
    "                labels[i] + \":\",\n",
    "                numbers[i][snr],\n",
    "            )\n",
    "    return accuracy\n",
    "\n",
    "\n",
    "Ns = (200, 500)\n",
    "labels = (\"BPSK\", \"QPSK\", \"16QAM\", \"64QAM\")\n",
    "\n",
    "\n",
    "def ModulationClassTests(SNR, method):\n",
    "    \"\"\"测试所有数据集对某个调制方式的准确率，并绘制图形.\n",
    "\n",
    "    Args:\n",
    "        SNR (List[int]): 信噪比\n",
    "        method (int): 调制方式\n",
    "    \"\"\"\n",
    "    fig, axs = plt.subplots(2, figsize=(20, 16))\n",
    "    fig.suptitle(\"SNR vs Accuracy - \" + labels[method], fontsize=32)\n",
    "    x = SNR\n",
    "\n",
    "    for i, L in enumerate(Ls):\n",
    "        for N in Ns:\n",
    "            for j, K in enumerate(Ks):\n",
    "                label = \"N = \" + str(N) + \", K = \" + str(K)\n",
    "                print(label + \":\")\n",
    "                accuracy = ModulationClassTest(\n",
    "                    L, SNR, method, N, labels, kNN_classifiers[i][j]\n",
    "                )\n",
    "                print(accuracy)\n",
    "\n",
    "                axs[i].plot(\n",
    "                    x,\n",
    "                    list(accuracy.values()),\n",
    "                    label=label,\n",
    "                    marker=\"o\",\n",
    "                    linewidth=2.0,\n",
    "                    linestyle=\"dashed\",\n",
    "                )\n",
    "\n",
    "        axs[i].set_title(\"L =\" + str(L), fontsize=24)\n",
    "        axs[i].legend(loc=\"upper left\", frameon=False, fontsize=14)\n",
    "        axs[i].grid()\n",
    "\n",
    "    for ax in axs.flat:\n",
    "        ax.set(\n",
    "            xticks=np.arange(min(x), max(x) + 1, 2.0),\n",
    "            yticks=np.arange(0, 1, 0.10),\n",
    "            xlabel=\"SNR (dB)\",\n",
    "            ylabel=\"Test accuracy\",\n",
    "        )\n",
    "\n",
    "    plt.show()\n"
   ]
  },
  {
   "cell_type": "markdown",
   "metadata": {},
   "source": [
    "### BPSK ModulationClassTest"
   ]
  },
  {
   "cell_type": "code",
   "execution_count": null,
   "metadata": {},
   "outputs": [],
   "source": [
    "SNR = [2 * x for x in range(-2, 6)]\n",
    "ModulationClassTests(SNR, 0)"
   ]
  },
  {
   "cell_type": "markdown",
   "metadata": {},
   "source": [
    "### QPSK ModulationClassTest"
   ]
  },
  {
   "cell_type": "code",
   "execution_count": null,
   "metadata": {},
   "outputs": [],
   "source": [
    "SNR = [2 * x for x in range(-2, 6)]\n",
    "ModulationClassTests(SNR, 1)"
   ]
  },
  {
   "cell_type": "markdown",
   "metadata": {},
   "source": [
    "### 16QAM ModulationClassTest"
   ]
  },
  {
   "cell_type": "code",
   "execution_count": null,
   "metadata": {},
   "outputs": [],
   "source": [
    "SNR = [5 * x for x in range(0, 9)]\n",
    "ModulationClassTests(SNR, 2)"
   ]
  },
  {
   "source": [
    "## 实验总结\n",
    "\n",
    "1. SNR 越大，识别正确率越高\n",
    "2. 用于计算高阶矩的样本量越多，识别正确率越高\n",
    "3. 调制阶数越高，识别正确率达到 1 时对应的 SNR 越高\n",
    "4. 提升高阶累积量可以显著增加识别的正确率\n"
   ],
   "cell_type": "markdown",
   "metadata": {}
  }
 ],
 "metadata": {
  "kernelspec": {
   "name": "python3",
   "display_name": "Python 3.8.6 64-bit",
   "metadata": {
    "interpreter": {
     "hash": "e7370f93d1d0cde622a1f8e1c04877d8463912d04d973331ad4851f04de6915a"
    }
   }
  },
  "language_info": {
   "codemirror_mode": {
    "name": "ipython",
    "version": 3
   },
   "file_extension": ".py",
   "mimetype": "text/x-python",
   "name": "python",
   "nbconvert_exporter": "python",
   "pygments_lexer": "ipython3",
   "version": "3.8.6-final"
  }
 },
 "nbformat": 4,
 "nbformat_minor": 2
}